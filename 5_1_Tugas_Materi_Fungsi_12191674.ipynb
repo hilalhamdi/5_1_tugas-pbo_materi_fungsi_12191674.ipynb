{
 "cells": [
  {
   "cell_type": "code",
   "execution_count": null,
   "metadata": {
    "id": "22s8pI85u5_J"
   },
   "outputs": [],
   "source": []
  },
  {
   "cell_type": "markdown",
   "metadata": {
    "id": "fPMZcyuxvINI"
   },
   "source": [
    "**Soal 5.1.1**\n",
    "\n",
    "Berikut ini adalah potongan kode implementasi fungsi *luas_limas_segi_empat()*\n",
    "``` javascript\n",
    "print(\"Luas : %d\" % luas_limas_segi_empat(Alas_limas, Tinggi_limas))​\n",
    "```\n",
    "Lengkapilah kode tersebut dengan merancang sebuah fungsi agar bisa diimplementasikan sesuai dengan statment potongan kode diatas.\n",
    "dengan mengetikan pada code cell di bawah ini pada editor."
   ]
  },
  {
   "cell_type": "code",
   "execution_count": 2,
   "metadata": {
    "colab": {
     "base_uri": "https://localhost:8080/"
    },
    "executionInfo": {
     "elapsed": 16025,
     "status": "ok",
     "timestamp": 1605258583401,
     "user": {
      "displayName": "Sidiq Nur Soleh",
      "photoUrl": "",
      "userId": "04349474375275842896"
     },
     "user_tz": -420
    },
    "id": "WMeeaGjuxQfL",
    "outputId": "f5d4edc1-753f-4838-feba-20278ec93de2"
   },
   "outputs": [
    {
     "name": "stdout",
     "output_type": "stream",
     "text": [
      "Masukkan sisi alas      : 10\n",
      "Masukkan tinggi selimut : 20\n",
      "Luas permukaan limas    : 408\n"
     ]
    }
   ],
   "source": [
    "# Soal 4.1.1\n",
    "def luas_limas_segi_empat(alas_limas, tinggi_limas):\n",
    "  luas=(alas_limas^2)+(4*(1/2)*alas_limas*tinggi_limas)\n",
    "  return luas\n",
    "alas_limas=int(input(\"Masukkan sisi alas      : \"))\n",
    "tinggi_limas=int(input(\"Masukkan tinggi selimut : \"))\n",
    "print(\"Luas permukaan limas    : %d\" % luas_limas_segi_empat(alas_limas, tinggi_limas))"
   ]
  },
  {
   "cell_type": "code",
   "execution_count": null,
   "metadata": {},
   "outputs": [],
   "source": []
  },
  {
   "cell_type": "code",
   "execution_count": null,
   "metadata": {},
   "outputs": [],
   "source": []
  }
 ],
 "metadata": {
  "colab": {
   "collapsed_sections": [],
   "name": "5_1_Tugas_Materi_Fungsi (1).ipynb",
   "provenance": []
  },
  "kernelspec": {
   "display_name": "Python 3",
   "language": "python",
   "name": "python3"
  }
 },
 "nbformat": 4,
 "nbformat_minor": 1
}
